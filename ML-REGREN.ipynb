{
 "cells": [
  {
   "cell_type": "code",
   "execution_count": null,
   "metadata": {},
   "outputs": [],
   "source": [
    "# Importing Dependencies.\n",
    "from IPython.core.interactiveshell import InteractiveShell\n",
    "InteractiveShell.ast_node_interactivity = \"all\"\n",
    "import warnings\n",
    "warnings.filterwarnings('ignore')\n",
    "##########################\n",
    "import pandas as pd\n",
    "import numpy as np\n",
    "#########################\n",
    "from scipy import stats\n",
    "#########################\n",
    "import cufflinks as cf\n",
    "cf.go_offline()\n",
    "#########################\n",
    "import datetime as dt\n",
    "from datetime import timedelta\n",
    "##########################\n",
    "import matplotlib.pyplot as plt\n",
    "import pyfolio as pf\n",
    "import empyrical as ep"
   ]
  },
  {
   "cell_type": "code",
   "execution_count": null,
   "metadata": {},
   "outputs": [],
   "source": [
    "from tvDatafeed import TvDatafeed, Interval\n",
    "##########################################\n",
    "username = ''\n",
    "password = ''\n",
    "##########################################\n",
    "tv = TvDatafeed(username, password)\n",
    "# NIFTY INDEX.\n",
    "Nifty_index_data = tv.get_hist(symbol='NIFTY',\n",
    "                                    exchange='NSE',\n",
    "                                    interval=Interval.in_1_minute,\n",
    "                                    n_bars=20000)\n",
    "Nifty_index_data = df = Nifty_index_data[['symbol','open','high','low','close','volume']]\n",
    "df = df.between_time('9:05', '15:00')"
   ]
  },
  {
   "cell_type": "code",
   "execution_count": null,
   "metadata": {},
   "outputs": [],
   "source": [
    "import numpy as np\n",
    "from scipy import stats\n",
    "\n",
    "def linear_regression_backtest(data, lookback_period):\n",
    "    # Check if data has 'close' column\n",
    "    if 'close' not in data.columns:\n",
    "        raise ValueError(\"Input dataframe must have 'close' column\")\n",
    "\n",
    "    # Check if lookback period is valid\n",
    "    if len(data) < lookback_period:\n",
    "        raise ValueError(\"Lookback period is larger than available data\")\n",
    "\n",
    "    # Calculate the linear regression slope for each period in the dataset\n",
    "    data['slope'] = np.nan\n",
    "    for i in range(lookback_period, len(data)):\n",
    "        # Select the data for the lookback period\n",
    "        x = np.arange(lookback_period)\n",
    "        y = data['close'][i-lookback_period+1:i+1].values\n",
    "        # Calculate the slope of the linear regression line\n",
    "        slope, _, _, _, _ = stats.linregress(x, y)\n",
    "        # Add the slope to the data frame\n",
    "        data.loc[data.index[i], 'slope'] = slope\n",
    "\n",
    "    # Determine the trading signals based on the slope of the linear regression line\n",
    "    data['signal'] = np.where(data['slope'] > 0, 1, -1)\n",
    "    # Commented out: alternate way of determining trading signals\n",
    "    # data['signal'] = np.where(data['slope'] < 0, -1, data['signal'])\n",
    "\n",
    "    ### Determine the trading signals based on the slope of the linear regression line ###\n",
    "    # Commented out: another alternate way of determining trading signals\n",
    "    # data['signal'] = data['signal'].where(data['signal'].diff().fillna(0).ne(0), np.nan)\n",
    "    # data.loc[(data.index.time >= pd.to_datetime('15:15:00').time()) , 'signal'] = 0\n",
    "\n",
    "    # Calculate the daily returns based on the trading signals\n",
    "    data = data.sort_index() # ensure data is sorted by date\n",
    "    data['returns'] = data['close'].pct_change()\n",
    "    data['strategy_returns'] = data['returns'] * data['signal']\n",
    "    \n",
    "    return data\n"
   ]
  },
  {
   "cell_type": "code",
   "execution_count": null,
   "metadata": {},
   "outputs": [],
   "source": [
    "# Load in a dataset of closing prices for a stock\n",
    "data = df"
   ]
  },
  {
   "cell_type": "code",
   "execution_count": null,
   "metadata": {},
   "outputs": [],
   "source": [
    "# Backtest the linear regression indicator with a lookback period of 20 periods\n",
    "df = linear_regression_backtest(data, 3)"
   ]
  },
  {
   "cell_type": "code",
   "execution_count": null,
   "metadata": {},
   "outputs": [],
   "source": [
    "# Calculate the annualised Sharpe ratio\n",
    "sharpe = np.sqrt(252) * \\\n",
    "    df.strategy_returns.mean() / df.strategy_returns.std()\n",
    "# Calculating Max Drawdown.\n",
    "max_dd= ep.max_drawdown(df.strategy_returns)\n",
    "# Calculating Stablity of Time Series of Returns.\n",
    "stablity = ep.stability_of_timeseries(df.strategy_returns)"
   ]
  },
  {
   "cell_type": "code",
   "execution_count": null,
   "metadata": {},
   "outputs": [],
   "source": [
    "print(f'Start: \\n{df.index[0]} \\nEnd: \\n{df.index[-1]}')\n",
    "print(\"The annualised Sharpe ratio is %.2f\" % sharpe)\n",
    "print(f'Total Signal Counts:\\n{df.signal.value_counts()}')\n",
    "print(f'Total return: {((df.strategy_returns.cumsum()[-1])) :.4f} X') #times X\n",
    "print(f'The Max Drawdown: {(max_dd*100):.2f} %') #times 100\n",
    "print(f'Stability of Time Series: {stablity:.2f}')"
   ]
  },
  {
   "cell_type": "code",
   "execution_count": null,
   "metadata": {},
   "outputs": [],
   "source": [
    "(df['close']/df['close'][0]).iplot()"
   ]
  },
  {
   "attachments": {},
   "cell_type": "markdown",
   "metadata": {},
   "source": [
    "##\n",
    "- SLOPE is 2 SIGNAL COUNT = 1//1786 , -1//1785\n",
    "\n",
    "- SLOPE is 3 SIGNAL COUNT = 1//1146 , -1//1146\n",
    "\n",
    "- SLOPE is 4 SIGNAL COUNT = 1//839 , -1//839 \n",
    "\n",
    "- TF45MIN\n",
    "##"
   ]
  },
  {
   "cell_type": "code",
   "execution_count": null,
   "metadata": {},
   "outputs": [],
   "source": [
    "pf.create_full_tear_sheet(df.strategy_returns)"
   ]
  },
  {
   "cell_type": "code",
   "execution_count": null,
   "metadata": {},
   "outputs": [],
   "source": [
    "j = df.signal  # forward-fill missing values in df.position\n",
    "e = df.close\n",
    "\n",
    "result = []\n",
    "for i in range(len(j)):\n",
    "    if i == len(j)-1 or pd.isna(j[i]) or pd.isna(j[i+1]):\n",
    "        result.append(0)  # if there's a missing value or last row, append 0\n",
    "    elif j[i] == -1:\n",
    "        result.append(e[i] - e[i+1])\n",
    "    elif j[i] == 1:\n",
    "        result.append(e[i+1] - e[i])\n",
    "    else:\n",
    "        result.append(0)\n",
    "\n",
    "total = sum(result)\n",
    "print(f'Gains in Points: {total:.2f}')\n"
   ]
  },
  {
   "cell_type": "markdown",
   "metadata": {},
   "source": []
  },
  {
   "cell_type": "markdown",
   "metadata": {},
   "source": []
  },
  {
   "cell_type": "markdown",
   "metadata": {},
   "source": []
  },
  {
   "cell_type": "code",
   "execution_count": null,
   "metadata": {},
   "outputs": [],
   "source": [
    "df"
   ]
  },
  {
   "cell_type": "markdown",
   "metadata": {},
   "source": []
  },
  {
   "attachments": {},
   "cell_type": "markdown",
   "metadata": {},
   "source": [
    "df = df.to_csv('slope4-45m--ET-15.15-regren.csv')"
   ]
  },
  {
   "cell_type": "markdown",
   "metadata": {},
   "source": [
    "df['slope'].describe()"
   ]
  }
 ],
 "metadata": {
  "kernelspec": {
   "display_name": "Python 3 (ipykernel)",
   "language": "python",
   "name": "python3"
  },
  "language_info": {
   "codemirror_mode": {
    "name": "ipython",
    "version": 3
   },
   "file_extension": ".py",
   "mimetype": "text/x-python",
   "name": "python",
   "nbconvert_exporter": "python",
   "pygments_lexer": "ipython3",
   "version": "3.10.10"
  },
  "orig_nbformat": 4
 },
 "nbformat": 4,
 "nbformat_minor": 2
}
