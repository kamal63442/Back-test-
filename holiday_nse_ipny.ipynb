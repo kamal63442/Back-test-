{
  "cells": [
    {
      "cell_type": "markdown",
      "metadata": {
        "id": "view-in-github",
        "colab_type": "text"
      },
      "source": [
        "<a href=\"https://colab.research.google.com/github/kamal63442/Back-test-/blob/main/holiday_nse_ipny.ipynb\" target=\"_parent\"><img src=\"https://colab.research.google.com/assets/colab-badge.svg\" alt=\"Open In Colab\"/></a>"
      ]
    },
    {
      "cell_type": "code",
      "execution_count": 12,
      "metadata": {
        "colab": {
          "base_uri": "https://localhost:8080/"
        },
        "id": "lIYdn1woOS1n",
        "outputId": "51ee1f71-9c00-4f43-cb39-4ad05d9ad69c"
      },
      "outputs": [
        {
          "name": "stdout",
          "output_type": "stream",
          "text": [
            "Holiday Year: 2024\n"
          ]
        }
      ],
      "source": [
        "# Import pandas and requests libraries\n",
        "import pandas as pd\n",
        "import requests\n",
        "\n",
        "year = input(\"Holiday Year: \")\n",
        "# Define the web page URL\n",
        "url = f\"https://calendarholidays.in/{year}-nse-holidays/\""
      ]
    },
    {
      "cell_type": "code",
      "source": [
        "# Get the HTML content of the web page\n",
        "response = requests.get(url)\n",
        "html = response.text\n",
        "\n",
        "# Parse the HTML content using pandas\n",
        "tables = pd.read_html(html)\n",
        "\n",
        "# Select the first table which contains the NSE holidays\n",
        "nse_holidays = tables[0]\n",
        "\n",
        "# Rename the columns to year, date, day, and holiday\n",
        "nse_holidays.columns = [\"year\", \"date\", \"day\", \"Holiday\"]\n",
        "\n",
        "# Convert the date column to datetime format\n",
        "nse_holidays[\"date\"] = pd.to_datetime(nse_holidays[\"date\"], format=\"%d %b\")\n",
        "\n",
        "# Extract the month and day from the date column\n",
        "nse_holidays[\"month\"] = nse_holidays[\"date\"].dt.month\n",
        "nse_holidays[\"day\"] = nse_holidays[\"date\"].dt.day\n",
        "\n",
        "# Drop the date column as it is not needed\n",
        "nse_holidays = nse_holidays.drop(\"date\", axis=1)\n",
        "\n",
        "# Create a new column that combines the year, month, and day as yyyy,mm,dd\n",
        "nse_holidays[\"year_date\"] = nse_holidays[\"year\"].astype(str) + \":\" + nse_holidays[\"month\"].astype(str) + \":\" + nse_holidays[\"day\"].astype(str)\n",
        "\n",
        "# Drop the year, month, and day columns as they are not needed\n",
        "nse_holidays = nse_holidays.drop([\"year\",\"month\",\"day\"], axis=1)\n",
        "\n",
        "# Display the pandas data frame\n",
        "print(nse_holidays)\n"
      ],
      "metadata": {
        "id": "RdXZOpiwndT_",
        "outputId": "abe733bd-dab7-4de7-84bc-3ac7620536f6",
        "colab": {
          "base_uri": "https://localhost:8080/"
        }
      },
      "execution_count": 13,
      "outputs": [
        {
          "output_type": "stream",
          "name": "stdout",
          "text": [
            "                   Holiday   year_date\n",
            "0             Republic Day   2024:1:26\n",
            "1          Maha Shivaratri    2024:3:8\n",
            "2                     Holi   2024:3:25\n",
            "3              Good Friday   2024:3:29\n",
            "4              EID AL FITR   2024:4:10\n",
            "5         Ambedkar Jayanti   2024:4:14\n",
            "6               Ramanavami   2024:4:17\n",
            "7         Mahavir Jayanthi   2024:4:21\n",
            "8          Maharashtra Din    2024:5:1\n",
            "9   Bakri Id / Eid ul-Adha   2024:6:17\n",
            "10                Muharram   2024:7:17\n",
            "11        Independence Day   2024:8:15\n",
            "12        Ganesh Chaturthi    2024:9:7\n",
            "13          Gandhi Jayanti   2024:10:2\n",
            "14                Dussehra  2024:10:13\n",
            "15                  Diwali   2024:11:1\n",
            "16                  Diwali   2024:11:2\n",
            "17   Guru Nanak's Birthday  2024:11:15\n",
            "18               Christmas  2024:12:25\n"
          ]
        }
      ]
    }
  ],
  "metadata": {
    "colab": {
      "provenance": [],
      "include_colab_link": true
    },
    "kernelspec": {
      "display_name": "Python 3",
      "name": "python3"
    }
  },
  "nbformat": 4,
  "nbformat_minor": 0
}